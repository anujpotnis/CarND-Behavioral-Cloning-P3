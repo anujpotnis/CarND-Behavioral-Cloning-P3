{
 "cells": [
  {
   "cell_type": "markdown",
   "metadata": {
    "deletable": true,
    "editable": true
   },
   "source": [
    "Read CSV\n",
    "Generate Table with headings\n",
    "Generate y_train data\n",
    "    Read Steering Angle\n",
    "Generate X_train data\n",
    "    Read images (center, left, right) using filename\n",
    "    Crop\n",
    "    Augment\n",
    "        Flip,resize - append(y_train, offset)\n",
    "        Noise, resize - append(y_train, offset)\n",
    "        blur, resize - append(y_train, offset)\n",
    "\n",
    "Neural Network Implmentation\n",
    "training, validation, testing split\n",
    "Generator Function\n",
    "\n",
    "Neural Network Training\n",
    "Save Model\n",
    "\n",
    "    "
   ]
  },
  {
   "cell_type": "markdown",
   "metadata": {
    "collapsed": true,
    "deletable": true,
    "editable": true
   },
   "source": [
    "### Read CSV"
   ]
  },
  {
   "cell_type": "code",
   "execution_count": 9,
   "metadata": {
    "collapsed": true,
    "deletable": true,
    "editable": true
   },
   "outputs": [],
   "source": [
    "import tensorflow as tf\n",
    "import pandas as pd\n",
    "import numpy as np\n",
    "import cv2\n",
    "import matplotlib.pyplot as plt\n",
    "%matplotlib inline"
   ]
  },
  {
   "cell_type": "code",
   "execution_count": null,
   "metadata": {
    "collapsed": false,
    "deletable": true,
    "editable": true
   },
   "outputs": [],
   "source": [
    "csv_headers = [\"center\", \"left\", \"right\", \"steering\", \"throttle\", \"brake\", \"speed\"]\n",
    "\n",
    "data = pd.read_csv('CarSim_data/driving_log.csv', names=csv_headers)"
   ]
  },
  {
   "cell_type": "code",
   "execution_count": null,
   "metadata": {
    "collapsed": true,
    "deletable": true,
    "editable": true
   },
   "outputs": [],
   "source": [
    "data.head()"
   ]
  },
  {
   "cell_type": "markdown",
   "metadata": {
    "deletable": true,
    "editable": true
   },
   "source": [
    "### Read Image, Crop and Resize"
   ]
  },
  {
   "cell_type": "code",
   "execution_count": null,
   "metadata": {
    "collapsed": true,
    "deletable": true,
    "editable": true
   },
   "outputs": [],
   "source": [
    "for i in data['center']:\n",
    "    print(i)"
   ]
  },
  {
   "cell_type": "markdown",
   "metadata": {
    "deletable": true,
    "editable": true
   },
   "source": [
    "### Features"
   ]
  },
  {
   "cell_type": "code",
   "execution_count": null,
   "metadata": {
    "collapsed": false,
    "deletable": true,
    "editable": true,
    "scrolled": false
   },
   "outputs": [],
   "source": [
    "img_path = data['center'][1]\n",
    "#print(img_path)\n",
    "num_samples = len(data)\n",
    "i=0\n",
    "for row in data['center']:\n",
    "#     print(i)\n",
    "    I = cv2.imread(img_path)\n",
    "    b,g,r = cv2.split(I)\n",
    "    I = cv2.merge([r,g,b])\n",
    "    #cv2.imwrite('I.jpg',I)\n",
    "    I = I[50:,:]\n",
    "    I = cv2.resize(I,None,fx=0.25,fy=0.25,interpolation=cv2.INTER_AREA)\n",
    "    plt.imshow(I)\n",
    "    \n",
    "    # https://carnd-forums.udacity.com/questions/32716893/\n",
    "    # does-anyone-know-how-to-make-multiple-images-into-4d-arrays-like-pickled-data#\n",
    "    #arr = np.zeros((num_examples, width, height, channels))\n",
    "\n",
    "    X_train = np.zeros((num_samples, I.shape[0], I.shape[1], I.shape[2]))\n",
    "    X_train[i, :, :, :] = I\n",
    "    i=i+1"
   ]
  },
  {
   "cell_type": "code",
   "execution_count": null,
   "metadata": {
    "collapsed": false,
    "deletable": true,
    "editable": true
   },
   "outputs": [],
   "source": [
    "print(type(I))"
   ]
  },
  {
   "cell_type": "markdown",
   "metadata": {
    "deletable": true,
    "editable": true
   },
   "source": [
    "### Labels"
   ]
  },
  {
   "cell_type": "code",
   "execution_count": null,
   "metadata": {
    "collapsed": false,
    "deletable": true,
    "editable": true
   },
   "outputs": [],
   "source": [
    "# Convert a pandas dataframe (df) to a numpy ndarray\n",
    "y_train = data['steering'].values\n",
    "print(y_train.shape)"
   ]
  },
  {
   "cell_type": "markdown",
   "metadata": {
    "deletable": true,
    "editable": true
   },
   "source": [
    "### Create Features and Labels"
   ]
  },
  {
   "cell_type": "markdown",
   "metadata": {
    "deletable": true,
    "editable": true
   },
   "source": [
    "### Preprocess the Data\n",
    "1.) Shuffle the data\n",
    "\n",
    "2.) Normalize the features using Min-Max scaling between -0.5 and 0.5\n",
    "\n",
    "3.) Steering Angle: -25 to 25\n"
   ]
  },
  {
   "cell_type": "code",
   "execution_count": null,
   "metadata": {
    "collapsed": false,
    "deletable": true,
    "editable": true
   },
   "outputs": [],
   "source": [
    "data.shape\n",
    "len(data)"
   ]
  },
  {
   "cell_type": "code",
   "execution_count": null,
   "metadata": {
    "collapsed": true,
    "deletable": true,
    "editable": true
   },
   "outputs": [],
   "source": [
    "I.shape[2]"
   ]
  },
  {
   "cell_type": "code",
   "execution_count": null,
   "metadata": {
    "collapsed": false,
    "deletable": true,
    "editable": true
   },
   "outputs": [],
   "source": [
    "# https://carnd-forums.udacity.com/questions/32716893/\n",
    "# does-anyone-know-how-to-make-multiple-images-into-4d-arrays-like-pickled-data#\n",
    "#arr = np.zeros((num_examples, width, height, channels))\n",
    "\n",
    "features = np.zeros((len(data), I.shape[1], I.shape[0], I.shape[2]))\n",
    "features[i, :, :, :] = I\n"
   ]
  },
  {
   "cell_type": "code",
   "execution_count": null,
   "metadata": {
    "collapsed": false,
    "deletable": true,
    "editable": true
   },
   "outputs": [],
   "source": [
    "arr.shape"
   ]
  },
  {
   "cell_type": "markdown",
   "metadata": {
    "collapsed": true,
    "deletable": true,
    "editable": true
   },
   "source": [
    "### Generator"
   ]
  },
  {
   "cell_type": "code",
   "execution_count": null,
   "metadata": {
    "collapsed": false,
    "deletable": true,
    "editable": true
   },
   "outputs": [],
   "source": [
    "import sklearn\n",
    "import pandas\n",
    "from sklearn.utils import shuffle"
   ]
  },
  {
   "cell_type": "code",
   "execution_count": null,
   "metadata": {
    "collapsed": true,
    "deletable": true,
    "editable": true
   },
   "outputs": [],
   "source": [
    "shuffle"
   ]
  },
  {
   "cell_type": "code",
   "execution_count": null,
   "metadata": {
    "collapsed": false,
    "deletable": true,
    "editable": true
   },
   "outputs": [],
   "source": [
    "def myGenerator(samples, batch_size=32):\n",
    "    num_samples = len(samples)\n",
    "    while 1: # loop forever so generator never terminates\n",
    "        shuffle(samples)\n",
    "        for offset in range(0, num_samples, batch_size):\n",
    "            batch_samples = samples[offset:offset+batch_size]\n",
    "\n",
    "            images = []\n",
    "            angles = []\n",
    "            for batch_sample in batch_samples:\n",
    "                name = './IMG'+batch_sample[0].split('/')[-1]\n",
    "                center_image = cv2.imreade(name)\n",
    "                center_angle = float(batch_sample[3])\n",
    "                images.append(center_image)\n",
    "                angles.append(center_angle)\n",
    "\n",
    "            X_train = np.array(images)\n",
    "            y_train = np.array(angles)\n",
    "            yield shuffle(X_train, y_train)"
   ]
  },
  {
   "cell_type": "code",
   "execution_count": null,
   "metadata": {
    "collapsed": false,
    "deletable": true,
    "editable": true
   },
   "outputs": [],
   "source": [
    "# compile and train the model using generator function\n",
    "train_generator = myGenerator(train_samples, batch_size=32)\n",
    "validation_generator = myGenerator(validation_samples, batch_size=32)"
   ]
  },
  {
   "cell_type": "markdown",
   "metadata": {
    "deletable": true,
    "editable": true
   },
   "source": [
    "## Keras Model"
   ]
  },
  {
   "cell_type": "code",
   "execution_count": 1,
   "metadata": {
    "collapsed": false,
    "deletable": true,
    "editable": true
   },
   "outputs": [
    {
     "name": "stderr",
     "output_type": "stream",
     "text": [
      "Using TensorFlow backend.\n"
     ]
    }
   ],
   "source": [
    "from keras.models import Sequential\n",
    "from keras.layers import Activation, Convolution2D, Dense, Dropout, Flatten, Lambda, MaxPooling2D\n"
   ]
  },
  {
   "cell_type": "code",
   "execution_count": 2,
   "metadata": {
    "collapsed": true,
    "deletable": true,
    "editable": true
   },
   "outputs": [],
   "source": [
    "ch, row, col = 3,64,64"
   ]
  },
  {
   "cell_type": "code",
   "execution_count": 12,
   "metadata": {
    "collapsed": false,
    "deletable": true,
    "editable": true
   },
   "outputs": [],
   "source": [
    "model = Sequential()\n",
    "\n",
    "model.add(Lambda(lambda x: x/127.5-1., input_shape=(col, row, ch), output_shape=(col, row, ch)))\n",
    "\n",
    "\n",
    "model.add(Convolution2D(24,5,5, init='glorot_uniform', border_mode='valid', activation='relu'))\n",
    "model.add(MaxPooling2D(pool_size=(2,2), strides=(1, 1)))\n",
    "\n",
    "model.add(Convolution2D(36,5,5, init='glorot_uniform', border_mode='valid', activation='relu'))\n",
    "model.add(MaxPooling2D(pool_size=(2,2), strides=(1, 1)))\n",
    "\n",
    "model.add(Convolution2D(48,5,5, init='glorot_uniform', border_mode='valid', activation='relu'))\n",
    "model.add(MaxPooling2D(pool_size=(2,2), strides=(1, 1)))\n",
    "\n",
    "model.add(Convolution2D(64,3,3, init='glorot_uniform', border_mode='valid', activation='relu'))\n",
    "model.add(MaxPooling2D(pool_size=(2,2), strides=(1, 1)))\n",
    "\n",
    "model.add(Convolution2D(64,3,3, init='glorot_uniform', border_mode='valid', activation='relu'))\n",
    "model.add(MaxPooling2D(pool_size=(2,2), strides=(1, 1)))\n",
    "\n",
    "model.add(Flatten())\n",
    "model.add(Dropout(0.2))\n",
    "model.add(Activation('relu'))\n",
    "\n",
    "model.add(Dense(1164))\n",
    "model.add(Dropout(0.5))\n",
    "model.add(Activation('relu'))\n",
    "\n",
    "model.add(Dense(100))\n",
    "model.add(Dropout(0.5))\n",
    "model.add(Activation('relu'))\n",
    "\n",
    "model.add(Dense(50))\n",
    "model.add(Dropout(0.5))\n",
    "model.add(Activation('relu'))\n",
    "\n",
    "model.add(Dense(10))\n",
    "model.add(Dropout(0.5))\n",
    "model.add(Activation('relu'))\n",
    "\n",
    "model.add(Dense(1))"
   ]
  },
  {
   "cell_type": "code",
   "execution_count": null,
   "metadata": {
    "collapsed": true
   },
   "outputs": [],
   "source": []
  }
 ],
 "metadata": {
  "kernelspec": {
   "display_name": "Python 3",
   "language": "python",
   "name": "python3"
  },
  "language_info": {
   "codemirror_mode": {
    "name": "ipython",
    "version": 3
   },
   "file_extension": ".py",
   "mimetype": "text/x-python",
   "name": "python",
   "nbconvert_exporter": "python",
   "pygments_lexer": "ipython3",
   "version": "3.5.2"
  },
  "widgets": {
   "state": {},
   "version": "1.1.2"
  }
 },
 "nbformat": 4,
 "nbformat_minor": 2
}
