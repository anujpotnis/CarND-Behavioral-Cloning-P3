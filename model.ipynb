{
 "cells": [
  {
   "cell_type": "markdown",
   "metadata": {
    "deletable": true,
    "editable": true
   },
   "source": [
    "Read CSV\n",
    "Generate Table with headings\n",
    "Generate y_train data\n",
    "    Read Steering Angle\n",
    "Generate X_train data\n",
    "    Read images (center, left, right) using filename\n",
    "    Crop\n",
    "    Augment\n",
    "        Flip,resize - append(y_train, offset)\n",
    "        Noise, resize - append(y_train, offset)\n",
    "        blur, resize - append(y_train, offset)\n",
    "\n",
    "Neural Network Implmentation\n",
    "training, validation, testing split\n",
    "Generator Function\n",
    "\n",
    "Neural Network Training\n",
    "Save Model\n",
    "\n",
    "    "
   ]
  },
  {
   "cell_type": "code",
   "execution_count": 1,
   "metadata": {
    "collapsed": true
   },
   "outputs": [],
   "source": [
    "## Learning: Important to cast to float. For example: float(line[3])\n",
    "## Learning: left_angle = float(batch_sample[3])+steering_ang_correction .. for left image we add not subtract!!!\n",
    "## since it is a correction\n"
   ]
  },
  {
   "cell_type": "markdown",
   "metadata": {
    "deletable": true,
    "editable": true
   },
   "source": [
    "### TUNING PARAMETERS"
   ]
  },
  {
   "cell_type": "code",
   "execution_count": 1,
   "metadata": {
    "collapsed": true,
    "deletable": true,
    "editable": true
   },
   "outputs": [],
   "source": [
    "# Steering Angle Offset\n",
    "# Note: Steering Angle is normalized to -1 and 1\n",
    "steering_ang_correction = 2\n",
    "zero_angle_keep = 0.8"
   ]
  },
  {
   "cell_type": "markdown",
   "metadata": {
    "collapsed": true,
    "deletable": true,
    "editable": true
   },
   "source": [
    "### Read CSV"
   ]
  },
  {
   "cell_type": "code",
   "execution_count": 2,
   "metadata": {
    "collapsed": false,
    "deletable": true,
    "editable": true
   },
   "outputs": [],
   "source": [
    "import tensorflow as tf\n",
    "import pandas as pd\n",
    "import numpy as np\n",
    "import cv2\n",
    "import matplotlib.pyplot as plt\n",
    "%matplotlib inline"
   ]
  },
  {
   "cell_type": "code",
   "execution_count": 3,
   "metadata": {
    "collapsed": false,
    "deletable": true,
    "editable": true
   },
   "outputs": [],
   "source": [
    "csv_headers = [\"center\", \"left\", \"right\", \"steering\", \"throttle\", \"brake\", \"speed\"]\n",
    "\n",
    "data = pd.read_csv('CarSim_data/driving_log.csv', names=csv_headers)"
   ]
  },
  {
   "cell_type": "markdown",
   "metadata": {
    "deletable": true,
    "editable": true
   },
   "source": [
    "### Create Features and Labels"
   ]
  },
  {
   "cell_type": "code",
   "execution_count": 4,
   "metadata": {
    "collapsed": false,
    "deletable": true,
    "editable": true
   },
   "outputs": [],
   "source": [
    "def i_crop(I):\n",
    "    return I[55:135,:]\n",
    "\n",
    "def i_resize(I):\n",
    "    return cv2.resize(I,(64, 64),interpolation=cv2.INTER_AREA)\n",
    "\n",
    "def i_flip(I, steering):\n",
    "    return cv2.flip(I,1), -steering\n",
    "    \n",
    "def i_bright(I):\n",
    "    I = cv2.cvtColor(I, cv2.COLOR_RGB2HSV)\n",
    "    I[:,:,2] = I[:,:,2]+(np.random.uniform(-20,20))\n",
    "    return cv2.cvtColor(I, cv2.COLOR_HSV2RGB)    "
   ]
  },
  {
   "cell_type": "markdown",
   "metadata": {
    "deletable": true,
    "editable": true
   },
   "source": [
    "### Image Procesing Playground"
   ]
  },
  {
   "cell_type": "code",
   "execution_count": 5,
   "metadata": {
    "collapsed": false,
    "deletable": true,
    "editable": true,
    "scrolled": true
   },
   "outputs": [],
   "source": [
    "# II = cv2.imread('./CarSim_data/IMG/left_2017_03_07_10_23_30_722.jpg')\n",
    "# plt.imshow(II)"
   ]
  },
  {
   "cell_type": "markdown",
   "metadata": {
    "collapsed": true,
    "deletable": true,
    "editable": true
   },
   "source": [
    "### Generator"
   ]
  },
  {
   "cell_type": "code",
   "execution_count": 6,
   "metadata": {
    "collapsed": false,
    "deletable": true,
    "editable": true
   },
   "outputs": [],
   "source": [
    "import sklearn\n",
    "import pandas\n",
    "from sklearn.utils import shuffle\n",
    "import csv"
   ]
  },
  {
   "cell_type": "code",
   "execution_count": 7,
   "metadata": {
    "collapsed": true,
    "deletable": true,
    "editable": true
   },
   "outputs": [],
   "source": []
  },
  {
   "cell_type": "code",
   "execution_count": 8,
   "metadata": {
    "collapsed": false,
    "deletable": true,
    "editable": true
   },
   "outputs": [],
   "source": [
    "samples = []\n",
    "hist_angle = []\n",
    "with open('./CarSim_data/driving_log.csv') as csvfile:\n",
    "    reader = csv.reader(csvfile)\n",
    "    for line in reader:\n",
    "        if float(line[3]) == 0:\n",
    "            if np.random.random() < zero_angle_keep:\n",
    "                hist_angle.append(float(line[3]))\n",
    "                samples.append(line)\n",
    "        else:\n",
    "            hist_angle.append(float(line[3]))\n",
    "            samples.append(line)"
   ]
  },
  {
   "cell_type": "code",
   "execution_count": 9,
   "metadata": {
    "collapsed": false,
    "deletable": true,
    "editable": true
   },
   "outputs": [
    {
     "data": {
      "text/plain": [
       "<matplotlib.text.Text at 0x7fef9e6aa208>"
      ]
     },
     "execution_count": 9,
     "metadata": {},
     "output_type": "execute_result"
    },
    {
     "data": {
      "image/png": "[encoded data removed]",
      "text/plain": [
       "<matplotlib.figure.Figure at 0x7fefa0a04be0>"
      ]
     },
     "metadata": {},
     "output_type": "display_data"
    }
   ],
   "source": [
    "plt.hist(hist_angle, bins = 40);\n",
    "plt.xlabel('Steering Angles')\n",
    "plt.ylabel('Frequency')\n",
    "plt.title('Steering Angle Histogram')"
   ]
  },
  {
   "cell_type": "code",
   "execution_count": 10,
   "metadata": {
    "collapsed": false,
    "deletable": true,
    "editable": true
   },
   "outputs": [],
   "source": [
    "from sklearn.model_selection import train_test_split\n",
    "train_samples, validation_samples = train_test_split(samples, test_size=0.2)"
   ]
  },
  {
   "cell_type": "code",
   "execution_count": 11,
   "metadata": {
    "collapsed": false,
    "deletable": true,
    "editable": true
   },
   "outputs": [
    {
     "name": "stdout",
     "output_type": "stream",
     "text": [
      "3654\n"
     ]
    }
   ],
   "source": [
    "print(len(train_samples))"
   ]
  },
  {
   "cell_type": "markdown",
   "metadata": {
    "deletable": true,
    "editable": true
   },
   "source": [
    "## Keras Model"
   ]
  },
  {
   "cell_type": "code",
   "execution_count": 12,
   "metadata": {
    "collapsed": false,
    "deletable": true,
    "editable": true
   },
   "outputs": [
    {
     "name": "stderr",
     "output_type": "stream",
     "text": [
      "Using TensorFlow backend.\n"
     ]
    }
   ],
   "source": [
    "from keras.models import Sequential\n",
    "from keras.layers import Activation, Convolution2D, Dense, Dropout, Flatten, Lambda, MaxPooling2D\n",
    "from keras.optimizers import Adam\n",
    "#from keras.layers.normalization import BatchNormalization\n"
   ]
  },
  {
   "cell_type": "code",
   "execution_count": 13,
   "metadata": {
    "collapsed": false,
    "deletable": true,
    "editable": true
   },
   "outputs": [],
   "source": [
    "# from keras.utils.visualize_util import plot"
   ]
  },
  {
   "cell_type": "code",
   "execution_count": 14,
   "metadata": {
    "collapsed": true,
    "deletable": true,
    "editable": true
   },
   "outputs": [],
   "source": [
    "ch, row, col = 3,64,64"
   ]
  },
  {
   "cell_type": "code",
   "execution_count": 15,
   "metadata": {
    "collapsed": false,
    "deletable": true,
    "editable": true
   },
   "outputs": [],
   "source": [
    "model = Sequential()\n",
    "\n",
    "model.add(Lambda(lambda x: x/127.5-1., input_shape=(col, row, ch), output_shape=(col, row, ch)))\n",
    "\n",
    "\n",
    "model.add(Convolution2D(24,5,5, init='glorot_uniform', subsample=(2, 2), border_mode='same', activation='relu'))\n",
    "model.add(MaxPooling2D(pool_size=(2,2), strides=(1, 1)))\n",
    "\n",
    "model.add(Convolution2D(36,5,5, init='glorot_uniform', subsample=(2, 2), border_mode='same', activation='relu'))\n",
    "model.add(MaxPooling2D(pool_size=(2,2), strides=(1, 1)))\n",
    "\n",
    "model.add(Convolution2D(48,5,5, init='glorot_uniform', subsample=(2, 2), border_mode='same', activation='relu'))\n",
    "model.add(MaxPooling2D(pool_size=(2,2), strides=(1, 1)))\n",
    "\n",
    "model.add(Convolution2D(64,3,3, init='glorot_uniform', border_mode='same', activation='relu'))\n",
    "model.add(MaxPooling2D(pool_size=(2,2), strides=(1, 1)))\n",
    "\n",
    "model.add(Convolution2D(64,3,3, init='glorot_uniform', border_mode='same', activation='relu'))\n",
    "model.add(MaxPooling2D(pool_size=(2,2), strides=(1, 1)))\n",
    "\n",
    "model.add(Flatten())\n",
    "model.add(Dropout(0.2))\n",
    "model.add(Activation('relu'))\n",
    "\n",
    "model.add(Dense(1164))\n",
    "model.add(Dropout(0.5))\n",
    "model.add(Activation('relu'))\n",
    "\n",
    "model.add(Dense(100))\n",
    "model.add(Dropout(0.5))\n",
    "model.add(Activation('relu'))\n",
    "\n",
    "model.add(Dense(50))\n",
    "model.add(Dropout(0.5))\n",
    "model.add(Activation('relu'))\n",
    "\n",
    "model.add(Dense(10))\n",
    "model.add(Dropout(0.5))\n",
    "model.add(Activation('relu'))\n",
    "\n",
    "model.add(Dense(1))"
   ]
  },
  {
   "cell_type": "code",
   "execution_count": 16,
   "metadata": {
    "collapsed": false,
    "deletable": true,
    "editable": true
   },
   "outputs": [],
   "source": [
    "#print(model.summary())"
   ]
  },
  {
   "cell_type": "code",
   "execution_count": 17,
   "metadata": {
    "collapsed": true,
    "deletable": true,
    "editable": true
   },
   "outputs": [],
   "source": [
    "model.compile(loss='mse', optimizer='adam')"
   ]
  },
  {
   "cell_type": "code",
   "execution_count": 18,
   "metadata": {
    "collapsed": false,
    "deletable": true,
    "editable": true
   },
   "outputs": [],
   "source": [
    "def myGenerator(samples, batch_size):\n",
    "    num_samples = len(samples)\n",
    "    while 1: # loop forever so generator never terminates\n",
    "        shuffle(samples)\n",
    "        # for logging\n",
    "        batch_num_idx = 1\n",
    "        for offset in range(0, num_samples, batch_size):\n",
    "            \n",
    "            print('Batch Number: ', batch_num_idx, ' End')\n",
    "            print(' ')\n",
    "            batch_samples = samples[offset:offset+batch_size]\n",
    "\n",
    "            images = []\n",
    "            angles = []\n",
    "            \n",
    "            for batch_sample in batch_samples:\n",
    "                \n",
    "                # Center Image ===================\n",
    "                name = batch_sample[0].strip()\n",
    "                center_image = i_resize(i_crop(cv2.imread(name)))\n",
    "                center_angle = float(batch_sample[3])               \n",
    "                images.append(center_image)\n",
    "                angles.append(center_angle)\n",
    "                \n",
    "                center_image, center_angle = i_flip(center_image, center_angle)                \n",
    "                images.append(center_image)\n",
    "                angles.append(center_angle)\n",
    "                \n",
    "            \n",
    "            \n",
    "                # Left Image =====================\n",
    "                name = batch_sample[1].strip()\n",
    "                left_image = i_resize(i_crop(cv2.imread(name)))\n",
    "                left_angle = float(batch_sample[3])+steering_ang_correction\n",
    "                images.append(left_image)\n",
    "                angles.append(left_angle)\n",
    "                \n",
    "                left_image, left_angle = i_flip(left_image, left_angle)                \n",
    "                images.append(left_image)\n",
    "                angles.append(left_angle)\n",
    "                \n",
    "                # Right Image\n",
    "                name = batch_sample[2].strip()\n",
    "                right_image = i_resize(i_crop(cv2.imread(name)))\n",
    "                right_angle = float(batch_sample[3])-steering_ang_correction\n",
    "                images.append(right_image)\n",
    "                angles.append(right_angle)\n",
    "                \n",
    "                right_image, right_angle = i_flip(right_image, right_angle)                \n",
    "                images.append(right_image)\n",
    "                angles.append(right_angle)\n",
    "                \n",
    "                         \n",
    "            X_train = np.array(images)\n",
    "            print('X_train Shape')\n",
    "            print(X_train.shape)\n",
    "            print('>>>>>>>>>>>>>>>>>>>>>>>>>>>>>>>>>>>>>>>>>')\n",
    "            print(' ')\n",
    "            y_train = np.array(angles)\n",
    "            \n",
    "            # for logging\n",
    "            batch_num_idx = batch_num_idx+1\n",
    "            \n",
    "            yield shuffle(X_train, y_train)"
   ]
  },
  {
   "cell_type": "code",
   "execution_count": 19,
   "metadata": {
    "collapsed": false,
    "deletable": true,
    "editable": true
   },
   "outputs": [],
   "source": [
    "# compile and train the model using generator function\n",
    "train_generator = myGenerator(train_samples, batch_size=256)\n",
    "validation_generator = myGenerator(validation_samples, batch_size=256)"
   ]
  },
  {
   "cell_type": "code",
   "execution_count": 20,
   "metadata": {
    "collapsed": false,
    "deletable": true,
    "editable": true
   },
   "outputs": [
    {
     "name": "stdout",
     "output_type": "stream",
     "text": [
      "Epoch 1/5Batch Number: \n",
      " 1  End\n",
      " \n",
      "X_train Shape\n",
      "(1536, 64, 64, 3)\n",
      ">>>>>>>>>>>>>>>>>>>>>>>>>>>>>>>>>>>>>>>>>\n",
      " \n",
      "Batch Number:  2  End\n",
      " \n",
      "X_train Shape\n",
      "(1536, 64, 64, 3)\n",
      ">>>>>>>>>>>>>>>>>>>>>>>>>>>>>>>>>>>>>>>>>\n",
      " \n",
      "Batch Number:  3  End\n",
      " \n",
      "X_train Shape\n",
      "(1536, 64, 64, 3)\n",
      ">>>>>>>>>>>>>>>>>>>>>>>>>>>>>>>>>>>>>>>>>\n",
      " \n",
      "Batch Number:  4  End\n",
      " \n",
      "X_train Shape\n",
      "(1536, 64, 64, 3)\n",
      ">>>>>>>>>>>>>>>>>>>>>>>>>>>>>>>>>>>>>>>>>\n",
      " \n",
      "Batch Number:  5  End\n",
      " \n",
      "3072/3654 [========================>.....] - ETA: 0s - loss: 2.7061\b\b\b\b\b\b\b\b\b\b\b\b\b\b\b\b\b\b\b\b\b\b\b\b\b\b\b\b\b\b\b\b\b\b\b\b\b\b\b\b\b\b\b\b\b\b\b\b\b\b\b\b\b\b\b\b\b\b\b\b\b\b\b\b\b\b\bX_train Shape\n",
      "(1536, 64, 64, 3)\n",
      ">>>>>>>>>>>>>>>>>>>>>>>>>>>>>>>>>>>>>>>>>\n",
      " \n",
      "Batch Number:  6  End\n",
      " \n",
      "Batch Number:  1  End\n",
      " \n"
     ]
    },
    {
     "name": "stderr",
     "output_type": "stream",
     "text": [
      "/home/anuj/miniconda3/envs/carnd-term1/lib/python3.5/site-packages/keras/engine/training.py:1573: UserWarning: Epoch comprised more than `samples_per_epoch` samples, which might affect learning results. Set `samples_per_epoch` correctly to avoid this warning.\n",
      "  warnings.warn('Epoch comprised more than '\n"
     ]
    },
    {
     "name": "stdout",
     "output_type": "stream",
     "text": [
      "X_train Shape\n",
      "(1536, 64, 64, 3)\n",
      ">>>>>>>>>>>>>>>>>>>>>>>>>>>>>>>>>>>>>>>>>\n",
      " \n",
      "Batch Number:  7  End\n",
      " \n",
      "X_train Shape\n",
      "(1536, 64, 64, 3)\n",
      ">>>>>>>>>>>>>>>>>>>>>>>>>>>>>>>>>>>>>>>>>\n",
      " \n",
      "Batch Number:  2  End\n",
      " \n",
      "X_train Shape\n",
      "(1536, 64, 64, 3)\n",
      ">>>>>>>>>>>>>>>>>>>>>>>>>>>>>>>>>>>>>>>>>\n",
      " \n",
      "Batch Number:  8  End\n",
      " \n",
      "X_train Shape\n",
      "(1536, 64, 64, 3)\n",
      ">>>>>>>>>>>>>>>>>>>>>>>>>>>>>>>>>>>>>>>>>\n",
      " \n",
      "4608/3654 [=====================================] - 4s - loss: 2.6995 - val_loss: 2.6887\n",
      "Epoch 2/5\n",
      "1536/3654 [===========>..................] - ETA: 0s - loss: 2.7048X_train Shape\n",
      "(1536, 64, 64, 3)\n",
      ">>>>>>>>>>>>>>>>>>>>>>>>>>>>>>>>>>>>>>>>>\n",
      " \n",
      "Batch Number:  9  End\n",
      " \n",
      "3072/3654 [========================>.....] - ETA: 0s - loss: 2.7024Batch Number:  3  End\n",
      " \n",
      "X_train Shape\n",
      "(1536, 64, 64, 3)\n",
      ">>>>>>>>>>>>>>>>>>>>>>>>>>>>>>>>>>>>>>>>>\n",
      " \n",
      "Batch Number:  10  End\n",
      " \n",
      "X_train Shape\n",
      "(1536, 64, 64, 3)\n",
      ">>>>>>>>>>>>>>>>>>>>>>>>>>>>>>>>>>>>>>>>>\n",
      " \n",
      "Batch Number:  4  End\n",
      " \n",
      "X_train Shape\n",
      "(1536, 64, 64, 3)\n",
      ">>>>>>>>>>>>>>>>>>>>>>>>>>>>>>>>>>>>>>>>>\n",
      " \n",
      "Batch Number:  11  End\n",
      " \n",
      "X_train Shape\n",
      "(876, 64, 64, 3)\n",
      ">>>>>>>>>>>>>>>>>>>>>>>>>>>>>>>>>>>>>>>>>\n",
      " \n",
      "4608/3654 [=====================================] - 2s - loss: 2.7019 - val_loss: 2.6910\n",
      "Epoch 3/5\n",
      "1536/3654 [===========>..................] - ETA: 0s - loss: 2.6832X_train Shape\n",
      "(1536, 64, 64, 3)\n",
      ">>>>>>>>>>>>>>>>>>>>>>>>>>>>>>>>>>>>>>>>>\n",
      " \n",
      "Batch Number:  12  End\n",
      " \n",
      "3072/3654 [========================>.....] - ETA: 0s - loss: 2.6824Batch Number:  1  End\n",
      " \n",
      "X_train Shape\n",
      "(1536, 64, 64, 3)\n",
      ">>>>>>>>>>>>>>>>>>>>>>>>>>>>>>>>>>>>>>>>>\n",
      " \n",
      "Batch Number:  13  End\n",
      " \n",
      "X_train Shape\n",
      "(1536, 64, 64, 3)\n",
      ">>>>>>>>>>>>>>>>>>>>>>>>>>>>>>>>>>>>>>>>>\n",
      " \n",
      "Batch Number:  2  End\n",
      " \n",
      "X_train Shape\n",
      "(1536, 64, 64, 3)\n",
      ">>>>>>>>>>>>>>>>>>>>>>>>>>>>>>>>>>>>>>>>>\n",
      " \n",
      "Batch Number:  14  End\n",
      " \n",
      "X_train Shape\n",
      "(1536, 64, 64, 3)\n",
      ">>>>>>>>>>>>>>>>>>>>>>>>>>>>>>>>>>>>>>>>>\n",
      " \n",
      "4608/3654 [=====================================] - 2s - loss: 2.6837 - val_loss: 2.6636\n",
      "Epoch 4/5\n",
      "X_train Shape\n",
      "(1536, 64, 64, 3)\n",
      ">>>>>>>>>>>>>>>>>>>>>>>>>>>>>>>>>>>>>>>>>\n",
      " \n",
      "Batch Number:  15  End\n",
      " \n",
      "X_train Shape\n",
      "(420, 64, 64, 3)\n",
      ">>>>>>>>>>>>>>>>>>>>>>>>>>>>>>>>>>>>>>>>>\n",
      " \n",
      "Batch Number:  1  End\n",
      " \n",
      "3072/3654 [========================>.....] - ETA: 0s - loss: 2.6566\b\b\b\b\b\b\b\b\b\b\b\b\b\b\b\b\b\b\b\b\b\b\b\b\b\b\b\b\b\b\b\b\b\b\b\b\b\b\b\b\b\b\b\b\b\b\b\b\b\b\b\b\b\b\b\b\b\b\b\b\b\b\b\b\b\b\bX_train Shape\n",
      "(1536, 64, 64, 3)\n",
      ">>>>>>>>>>>>>>>>>>>>>>>>>>>>>>>>>>>>>>>>>\n",
      " \n",
      "Batch Number:  2  End\n",
      " \n",
      "Batch Number:  3  End\n",
      " \n",
      "X_train Shape\n",
      "(1536, 64, 64, 3)\n",
      ">>>>>>>>>>>>>>>>>>>>>>>>>>>>>>>>>>>>>>>>>\n",
      " \n",
      "Batch Number:  3  End\n",
      " \n",
      "X_train Shape\n",
      "(1536, 64, 64, 3)\n",
      ">>>>>>>>>>>>>>>>>>>>>>>>>>>>>>>>>>>>>>>>>\n",
      " \n",
      "Batch Number:  4  End\n",
      " \n",
      "X_train Shape\n",
      "(876, 64, 64, 3)\n",
      ">>>>>>>>>>>>>>>>>>>>>>>>>>>>>>>>>>>>>>>>>\n",
      " \n",
      "4608/3654 [=====================================] - 2s - loss: 2.6424 - val_loss: 2.4836\n",
      "Epoch 5/5\n",
      "X_train Shape\n",
      "(1536, 64, 64, 3)\n",
      ">>>>>>>>>>>>>>>>>>>>>>>>>>>>>>>>>>>>>>>>>\n",
      " \n",
      "Batch Number:  4  End\n",
      " \n",
      "3072/3654 [========================>.....] - ETA: 0s - loss: 2.5881\b\b\b\b\b\b\b\b\b\b\b\b\b\b\b\b\b\b\b\b\b\b\b\b\b\b\b\b\b\b\b\b\b\b\b\b\b\b\b\b\b\b\b\b\b\b\b\b\b\b\b\b\b\b\b\b\b\b\b\b\b\b\b\b\b\b\bX_train Shape\n",
      "(1536, 64, 64, 3)\n",
      ">>>>>>>>>>>>>>>>>>>>>>>>>>>>>>>>>>>>>>>>>\n",
      " \n",
      "Batch Number:  5  End\n",
      " \n",
      "3492/3654 [===========================>..] - ETA: 0s - loss: 2.5778X_train Shape\n",
      "(1536, 64, 64, 3)\n",
      ">>>>>>>>>>>>>>>>>>>>>>>>>>>>>>>>>>>>>>>>>\n",
      " \n",
      "Batch Number:  6  End\n",
      " \n",
      "Batch Number:  1  End\n",
      " \n",
      "X_train Shape\n",
      "(1536, 64, 64, 3)\n",
      ">>>>>>>>>>>>>>>>>>>>>>>>>>>>>>>>>>>>>>>>>\n",
      " \n",
      "Batch Number:  7  End\n",
      " \n",
      "X_train Shape\n",
      "(1536, 64, 64, 3)\n",
      ">>>>>>>>>>>>>>>>>>>>>>>>>>>>>>>>>>>>>>>>>\n",
      " \n",
      "Batch Number:  2  End\n",
      " \n",
      "X_train Shape\n",
      "(1536, 64, 64, 3)\n",
      ">>>>>>>>>>>>>>>>>>>>>>>>>>>>>>>>>>>>>>>>>\n",
      " \n",
      "Batch Number:  8  End\n",
      " \n",
      "X_train Shape\n",
      "(1536, 64, 64, 3)\n",
      ">>>>>>>>>>>>>>>>>>>>>>>>>>>>>>>>>>>>>>>>>\n",
      " \n",
      "5028/3654 [=========================================] - 2s - loss: 2.5415 - val_loss: 2.1939\n",
      "X_train Shape\n",
      "(1536, 64, 64, 3)\n",
      ">>>>>>>>>>>>>>>>>>>>>>>>>>>>>>>>>>>>>>>>>\n",
      " \n"
     ]
    },
    {
     "data": {
      "text/plain": [
       "<keras.callbacks.History at 0x7fef99883390>"
      ]
     },
     "execution_count": 20,
     "metadata": {},
     "output_type": "execute_result"
    }
   ],
   "source": [
    "model.fit_generator(train_generator, samples_per_epoch=len(train_samples), validation_data=validation_generator, nb_val_samples=len(validation_samples), nb_epoch=5)"
   ]
  },
  {
   "cell_type": "markdown",
   "metadata": {
    "collapsed": true,
    "deletable": true,
    "editable": true
   },
   "source": [
    "### Save Model"
   ]
  },
  {
   "cell_type": "code",
   "execution_count": 21,
   "metadata": {
    "collapsed": false,
    "deletable": true,
    "editable": true
   },
   "outputs": [
    {
     "name": "stdout",
     "output_type": "stream",
     "text": [
      "Model Saved\n"
     ]
    }
   ],
   "source": [
    "import json\n",
    "\n",
    "model_json = model.to_json()\n",
    "with open ('model.json', 'w') as f:\n",
    "    json.dump(model_json, f, indent=4, sort_keys=True, separators=(',', ':'))\n",
    "    \n",
    "# model.save_weights will only save the weights\n",
    "model.save('model.h5')\n",
    "print(\"Model Saved\")"
   ]
  }
 ],
 "metadata": {
  "kernelspec": {
   "display_name": "Python 3",
   "language": "python",
   "name": "python3"
  },
  "language_info": {
   "codemirror_mode": {
    "name": "ipython",
    "version": 3
   },
   "file_extension": ".py",
   "mimetype": "text/x-python",
   "name": "python",
   "nbconvert_exporter": "python",
   "pygments_lexer": "ipython3",
   "version": "3.5.2"
  },
  "widgets": {
   "state": {},
   "version": "1.1.2"
  }
 },
 "nbformat": 4,
 "nbformat_minor": 2
}
