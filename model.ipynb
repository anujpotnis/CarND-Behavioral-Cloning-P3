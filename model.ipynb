{
 "cells": [
  {
   "cell_type": "markdown",
   "metadata": {
    "deletable": true,
    "editable": true
   },
   "source": [
    "Read CSV\n",
    "Generate Table with headings\n",
    "Generate y_train data\n",
    "    Read Steering Angle\n",
    "Generate X_train data\n",
    "    Read images (center, left, right) using filename\n",
    "    Crop\n",
    "    Augment\n",
    "        Flip,resize - append(y_train, offset)\n",
    "        Noise, resize - append(y_train, offset)\n",
    "        blur, resize - append(y_train, offset)\n",
    "\n",
    "Neural Network Implmentation\n",
    "training, validation, testing split\n",
    "Generator Function\n",
    "\n",
    "Neural Network Training\n",
    "Save Model\n",
    "\n",
    "    "
   ]
  },
  {
   "cell_type": "markdown",
   "metadata": {},
   "source": [
    "### TUNING PARAMETERS"
   ]
  },
  {
   "cell_type": "code",
   "execution_count": null,
   "metadata": {
    "collapsed": true
   },
   "outputs": [],
   "source": [
    "# Steering Angle Offset\n",
    "# Note: Steering Angle is normalized to -1 and 1\n",
    "steering_ang_offset = 0.1"
   ]
  },
  {
   "cell_type": "markdown",
   "metadata": {
    "collapsed": true,
    "deletable": true,
    "editable": true
   },
   "source": [
    "### Read CSV"
   ]
  },
  {
   "cell_type": "code",
   "execution_count": null,
   "metadata": {
    "collapsed": false,
    "deletable": true,
    "editable": true
   },
   "outputs": [],
   "source": [
    "import tensorflow as tf\n",
    "import pandas as pd\n",
    "import numpy as np\n",
    "import cv2\n",
    "import matplotlib.pyplot as plt\n",
    "%matplotlib inline"
   ]
  },
  {
   "cell_type": "code",
   "execution_count": null,
   "metadata": {
    "collapsed": false,
    "deletable": true,
    "editable": true
   },
   "outputs": [],
   "source": [
    "csv_headers = [\"center\", \"left\", \"right\", \"steering\", \"throttle\", \"brake\", \"speed\"]\n",
    "\n",
    "data = pd.read_csv('CarSim_data/driving_log.csv', names=csv_headers)"
   ]
  },
  {
   "cell_type": "code",
   "execution_count": null,
   "metadata": {
    "collapsed": false,
    "deletable": true,
    "editable": true
   },
   "outputs": [],
   "source": [
    "# data.head()"
   ]
  },
  {
   "cell_type": "markdown",
   "metadata": {
    "deletable": true,
    "editable": true
   },
   "source": [
    "### Features"
   ]
  },
  {
   "cell_type": "code",
   "execution_count": null,
   "metadata": {
    "collapsed": false,
    "deletable": true,
    "editable": true,
    "scrolled": false
   },
   "outputs": [],
   "source": [
    "img_path = data['center'][1]\n",
    "#print(img_path)\n",
    "num_samples = len(data)\n",
    "i=0\n",
    "for row in data['center']:\n",
    "#     print(i)\n",
    "    I = cv2.imread(img_path)\n",
    "    b,g,r = cv2.split(I)\n",
    "    I = cv2.merge([r,g,b])\n",
    "    #cv2.imwrite('I.jpg',I)\n",
    "#     I = I[50:,:]\n",
    "#     I = cv2.resize(I,None,fx=0.25,fy=0.25,interpolation=cv2.INTER_AREA)\n",
    "    plt.imshow(I)\n",
    "    \n",
    "    # https://carnd-forums.udacity.com/questions/32716893/\n",
    "    # does-anyone-know-how-to-make-multiple-images-into-4d-arrays-like-pickled-data#\n",
    "    #arr = np.zeros((num_examples, width, height, channels))\n",
    "\n",
    "    X_train = np.zeros((num_samples, I.shape[0], I.shape[1], I.shape[2]))\n",
    "    X_train[i, :, :, :] = I\n",
    "    i=i+1"
   ]
  },
  {
   "cell_type": "code",
   "execution_count": null,
   "metadata": {
    "collapsed": false,
    "deletable": true,
    "editable": true
   },
   "outputs": [],
   "source": [
    "print(type(I))\n",
    "print(I.shape)"
   ]
  },
  {
   "cell_type": "markdown",
   "metadata": {
    "deletable": true,
    "editable": true
   },
   "source": [
    "### Labels"
   ]
  },
  {
   "cell_type": "code",
   "execution_count": null,
   "metadata": {
    "collapsed": false,
    "deletable": true,
    "editable": true
   },
   "outputs": [],
   "source": [
    "# Convert a pandas dataframe (df) to a numpy ndarray\n",
    "y_train = data['steering'].values\n",
    "print(y_train.shape)"
   ]
  },
  {
   "cell_type": "markdown",
   "metadata": {
    "deletable": true,
    "editable": true
   },
   "source": [
    "### Create Features and Labels"
   ]
  },
  {
   "cell_type": "markdown",
   "metadata": {
    "deletable": true,
    "editable": true
   },
   "source": [
    "### Preprocess the Data\n",
    "1.) Shuffle the data\n",
    "\n",
    "2.) Normalize the features using Min-Max scaling between -0.5 and 0.5\n",
    "\n",
    "3.) Steering Angle: -25 to 25\n"
   ]
  },
  {
   "cell_type": "code",
   "execution_count": null,
   "metadata": {
    "collapsed": true
   },
   "outputs": [],
   "source": [
    "def i_crop(I):\n",
    "    return I[50:,:]\n",
    "\n",
    "def i_resize(I):\n",
    "    return cv2.resize(I,None,fx=0.25,fy=0.25,interpolation=cv2.INTER_AREA)"
   ]
  },
  {
   "cell_type": "markdown",
   "metadata": {
    "collapsed": true,
    "deletable": true,
    "editable": true
   },
   "source": [
    "### Generator"
   ]
  },
  {
   "cell_type": "code",
   "execution_count": null,
   "metadata": {
    "collapsed": false,
    "deletable": true,
    "editable": true
   },
   "outputs": [],
   "source": [
    "import sklearn\n",
    "import pandas\n",
    "from sklearn.utils import shuffle\n",
    "import csv"
   ]
  },
  {
   "cell_type": "code",
   "execution_count": null,
   "metadata": {
    "collapsed": false,
    "deletable": true,
    "editable": true
   },
   "outputs": [],
   "source": [
    "samples = []\n",
    "with open('./CarSim_data/driving_log.csv') as csvfile:\n",
    "    reader = csv.reader(csvfile)\n",
    "    for line in reader:\n",
    "        samples.append(line)"
   ]
  },
  {
   "cell_type": "code",
   "execution_count": null,
   "metadata": {
    "collapsed": false,
    "deletable": true,
    "editable": true
   },
   "outputs": [],
   "source": [
    "from sklearn.model_selection import train_test_split\n",
    "train_samples, validation_samples = train_test_split(samples, test_size=0.2)"
   ]
  },
  {
   "cell_type": "code",
   "execution_count": null,
   "metadata": {
    "collapsed": false,
    "deletable": true,
    "editable": true
   },
   "outputs": [],
   "source": [
    "print(len(train_samples))"
   ]
  },
  {
   "cell_type": "markdown",
   "metadata": {
    "deletable": true,
    "editable": true
   },
   "source": [
    "## Keras Model"
   ]
  },
  {
   "cell_type": "code",
   "execution_count": null,
   "metadata": {
    "collapsed": false,
    "deletable": true,
    "editable": true
   },
   "outputs": [],
   "source": [
    "from keras.models import Sequential\n",
    "from keras.layers import Activation, Convolution2D, Dense, Dropout, Flatten, Lambda, MaxPooling2D\n",
    "from keras.optimizers import Adam\n",
    "#from keras.layers.normalization import BatchNormalization\n"
   ]
  },
  {
   "cell_type": "code",
   "execution_count": null,
   "metadata": {
    "collapsed": false,
    "deletable": true,
    "editable": true
   },
   "outputs": [],
   "source": [
    "# from keras.utils.visualize_util import plot"
   ]
  },
  {
   "cell_type": "code",
   "execution_count": null,
   "metadata": {
    "collapsed": true,
    "deletable": true,
    "editable": true
   },
   "outputs": [],
   "source": [
    "ch, row, col = 3,320,110"
   ]
  },
  {
   "cell_type": "code",
   "execution_count": null,
   "metadata": {
    "collapsed": false,
    "deletable": true,
    "editable": true
   },
   "outputs": [],
   "source": [
    "model = Sequential()\n",
    "\n",
    "model.add(Lambda(lambda x: x/127.5-1., input_shape=(col, row, ch), output_shape=(col, row, ch)))\n",
    "\n",
    "\n",
    "model.add(Convolution2D(24,5,5, init='glorot_uniform', subsample=(2, 2), border_mode='same', activation='relu'))\n",
    "model.add(MaxPooling2D(pool_size=(2,2), strides=(1, 1)))\n",
    "\n",
    "model.add(Convolution2D(36,5,5, init='glorot_uniform', subsample=(2, 2), border_mode='same', activation='relu'))\n",
    "model.add(MaxPooling2D(pool_size=(2,2), strides=(1, 1)))\n",
    "\n",
    "model.add(Convolution2D(48,5,5, init='glorot_uniform', subsample=(2, 2), border_mode='same', activation='relu'))\n",
    "model.add(MaxPooling2D(pool_size=(2,2), strides=(1, 1)))\n",
    "\n",
    "model.add(Convolution2D(64,3,3, init='glorot_uniform', border_mode='same', activation='relu'))\n",
    "model.add(MaxPooling2D(pool_size=(2,2), strides=(1, 1)))\n",
    "\n",
    "model.add(Convolution2D(64,3,3, init='glorot_uniform', border_mode='same', activation='relu'))\n",
    "model.add(MaxPooling2D(pool_size=(2,2), strides=(1, 1)))\n",
    "\n",
    "model.add(Flatten())\n",
    "model.add(Dropout(0.2))\n",
    "model.add(Activation('relu'))\n",
    "\n",
    "model.add(Dense(1164))\n",
    "model.add(Dropout(0.5))\n",
    "model.add(Activation('relu'))\n",
    "\n",
    "model.add(Dense(100))\n",
    "model.add(Dropout(0.5))\n",
    "model.add(Activation('relu'))\n",
    "\n",
    "model.add(Dense(50))\n",
    "model.add(Dropout(0.5))\n",
    "model.add(Activation('relu'))\n",
    "\n",
    "model.add(Dense(10))\n",
    "model.add(Dropout(0.5))\n",
    "model.add(Activation('relu'))\n",
    "\n",
    "model.add(Dense(1))"
   ]
  },
  {
   "cell_type": "code",
   "execution_count": null,
   "metadata": {
    "collapsed": false,
    "deletable": true,
    "editable": true
   },
   "outputs": [],
   "source": [
    "#print(model.summary())"
   ]
  },
  {
   "cell_type": "code",
   "execution_count": null,
   "metadata": {
    "collapsed": true,
    "deletable": true,
    "editable": true
   },
   "outputs": [],
   "source": [
    "model.compile(loss='mse', optimizer='adam')"
   ]
  },
  {
   "cell_type": "code",
   "execution_count": null,
   "metadata": {
    "collapsed": true
   },
   "outputs": [],
   "source": [
    "def myGenerator(samples, batch_size=32):\n",
    "    num_samples = len(samples)\n",
    "    while 1: # loop forever so generator never terminates\n",
    "        shuffle(samples)\n",
    "        # for logging\n",
    "        batch_num_idx = 1\n",
    "        for offset in range(0, num_samples, batch_size):\n",
    "            \n",
    "            print('Batch Number: ', batch_num_idx, ' End')\n",
    "            print(' ')\n",
    "            batch_samples = samples[offset:offset+batch_size]\n",
    "\n",
    "            images = []\n",
    "            angles = []\n",
    "            \n",
    "            for batch_sample in batch_samples:\n",
    "                # Center Image\n",
    "                name = batch_sample[0].strip()\n",
    "                center_image = cv2.imread(name)\n",
    "                center_image = i_crop(center_image)\n",
    "                print(center_image.shape)\n",
    "#                 center_image = i_resize(center_image)\n",
    "                \n",
    "                images.append(center_image)\n",
    "#                 print('Length of Image List (Batch Sample Number): ', len(images))\n",
    "                # Center Angle\n",
    "                center_angle = float(batch_sample[3])\n",
    "                angles.append(center_angle)\n",
    "\n",
    "                # Left Image\n",
    "                name = batch_sample[1].strip()\n",
    "                left_image = cv2.imread(name)\n",
    "                left_image = i_crop(left_image)\n",
    "#                 left_image = i_resize(left_image)\n",
    "                images.append(left_image)\n",
    "                # Left Angle\n",
    "                left_angle = float(batch_sample[3])-steering_ang_offset\n",
    "                angles.append(left_angle)\n",
    "\n",
    "                # Right Image\n",
    "                name = batch_sample[2].strip()\n",
    "                right_image = cv2.imread(name)\n",
    "                right_image = i_crop(right_image)\n",
    "#                 right_image = i_resize(right_image)\n",
    "                images.append(right_image)\n",
    "                plt.imshow(right_image)\n",
    "                # Right Angle\n",
    "                right_angle = float(batch_sample[3])+steering_ang_offset\n",
    "                angles.append(right_angle)\n",
    "                         \n",
    "            X_train = np.array(images)\n",
    "            print(X_train.shape)\n",
    "            print('>>>>>>>>>>>>>>>>>>>>>>>>>>>>>>>>>>>>>>>>>')\n",
    "            print(' ')\n",
    "            y_train = np.array(angles)\n",
    "            \n",
    "            # for logging\n",
    "            batch_num_idx += 1\n",
    "            \n",
    "            yield shuffle(X_train, y_train)"
   ]
  },
  {
   "cell_type": "code",
   "execution_count": null,
   "metadata": {
    "collapsed": true
   },
   "outputs": [],
   "source": [
    "# compile and train the model using generator function\n",
    "train_generator = myGenerator(train_samples, batch_size=32)\n",
    "validation_generator = myGenerator(validation_samples, batch_size=32)"
   ]
  },
  {
   "cell_type": "code",
   "execution_count": null,
   "metadata": {
    "collapsed": false,
    "deletable": true,
    "editable": true
   },
   "outputs": [],
   "source": [
    "model.fit_generator(train_generator, samples_per_epoch=len(train_samples), validation_data=validation_generator, nb_val_samples=len(validation_samples), nb_epoch=5)"
   ]
  },
  {
   "cell_type": "markdown",
   "metadata": {
    "collapsed": true,
    "deletable": true,
    "editable": true
   },
   "source": [
    "### Save Model"
   ]
  },
  {
   "cell_type": "code",
   "execution_count": null,
   "metadata": {
    "collapsed": false,
    "deletable": true,
    "editable": true
   },
   "outputs": [],
   "source": [
    "import json\n",
    "\n",
    "model_json = model.to_json()\n",
    "with open ('model.json', 'w') as f:\n",
    "    json.dump(model_json, f, indent=4, sort_keys=True, separators=(',', ':'))\n",
    "    \n",
    "# model.save_weights will only save the weights\n",
    "model.save('model.h5')\n",
    "print(\"Model Saved\")"
   ]
  },
  {
   "cell_type": "code",
   "execution_count": null,
   "metadata": {
    "collapsed": false,
    "deletable": true,
    "editable": true
   },
   "outputs": [],
   "source": [
    "len(y_train)"
   ]
  }
 ],
 "metadata": {
  "kernelspec": {
   "display_name": "Python 3",
   "language": "python",
   "name": "python3"
  },
  "language_info": {
   "codemirror_mode": {
    "name": "ipython",
    "version": 3
   },
   "file_extension": ".py",
   "mimetype": "text/x-python",
   "name": "python",
   "nbconvert_exporter": "python",
   "pygments_lexer": "ipython3",
   "version": "3.5.2"
  },
  "widgets": {
   "state": {},
   "version": "1.1.2"
  }
 },
 "nbformat": 4,
 "nbformat_minor": 2
}
