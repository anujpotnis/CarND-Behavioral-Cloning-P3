{
 "cells": [
  {
   "cell_type": "markdown",
   "metadata": {
    "collapsed": true,
    "deletable": true,
    "editable": true
   },
   "source": [
    "### Read CSV"
   ]
  },
  {
   "cell_type": "code",
   "execution_count": null,
   "metadata": {
    "collapsed": true
   },
   "outputs": [],
   "source": [
    "import tensorflow as tf\n",
    "import pandas as pd\n",
    "import numpy as np\n",
    "import cv2\n",
    "import matplotlib.pyplot as plt\n",
    "%matplotlib inline"
   ]
  },
  {
   "cell_type": "code",
   "execution_count": null,
   "metadata": {
    "collapsed": false
   },
   "outputs": [],
   "source": [
    "csv_headers = [\"center\", \"left\", \"right\", \"steering\", \"throttle\", \"brake\", \"speed\"]\n",
    "\n",
    "data = pd.read_csv('CarSim_data/driving_log.csv', names=csv_headers)"
   ]
  },
  {
   "cell_type": "code",
   "execution_count": null,
   "metadata": {
    "collapsed": true
   },
   "outputs": [],
   "source": [
    "data.head()"
   ]
  },
  {
   "cell_type": "markdown",
   "metadata": {},
   "source": [
    "### Read Image, Crop and Resize"
   ]
  },
  {
   "cell_type": "code",
   "execution_count": null,
   "metadata": {
    "collapsed": false,
    "scrolled": true
   },
   "outputs": [],
   "source": [
    "for i in data['center']:\n",
    "    print(i)"
   ]
  },
  {
   "cell_type": "markdown",
   "metadata": {},
   "source": [
    "### Features"
   ]
  },
  {
   "cell_type": "code",
   "execution_count": null,
   "metadata": {
    "collapsed": false,
    "scrolled": false
   },
   "outputs": [],
   "source": [
    "img_path = data['center'][1]\n",
    "#print(img_path)\n",
    "num_samples = len(data)\n",
    "i=0\n",
    "for row in data['center']:\n",
    "    #print(i)\n",
    "    I = cv2.imread(img_path)\n",
    "    b,g,r = cv2.split(I)\n",
    "    I = cv2.merge([r,g,b])\n",
    "    #cv2.imwrite('I.jpg',I)\n",
    "    I = I[50:,:]\n",
    "    I = cv2.resize(I,None,fx=0.25,fy=0.25,interpolation=cv2.INTER_AREA)\n",
    "    plt.imshow(I)\n",
    "    \n",
    "    # https://carnd-forums.udacity.com/questions/32716893/\n",
    "    # does-anyone-know-how-to-make-multiple-images-into-4d-arrays-like-pickled-data#\n",
    "    #arr = np.zeros((num_examples, width, height, channels))\n",
    "\n",
    "    X_train = np.zeros((num_samples, I.shape[0], I.shape[1], I.shape[2]))\n",
    "    X_train[i, :, :, :] = I\n",
    "    i=i+1"
   ]
  },
  {
   "cell_type": "markdown",
   "metadata": {},
   "source": [
    "### Labels"
   ]
  },
  {
   "cell_type": "code",
   "execution_count": null,
   "metadata": {
    "collapsed": false
   },
   "outputs": [],
   "source": [
    "# Convert a pandas dataframe (df) to a numpy ndarray\n",
    "y_train = data['steering'].values"
   ]
  },
  {
   "cell_type": "markdown",
   "metadata": {},
   "source": [
    "### Create Features and Labels"
   ]
  },
  {
   "cell_type": "markdown",
   "metadata": {},
   "source": [
    "### Preprocess the Data\n",
    "1.) Shuffle the data\n",
    "\n",
    "2.) Normalize the features using Min-Max scaling between -0.5 and 0.5\n",
    "\n",
    "3.) Steering Angle: -25 to 25\n"
   ]
  },
  {
   "cell_type": "code",
   "execution_count": null,
   "metadata": {
    "collapsed": false
   },
   "outputs": [],
   "source": [
    "data.shape\n",
    "len(data)"
   ]
  },
  {
   "cell_type": "code",
   "execution_count": null,
   "metadata": {
    "collapsed": true
   },
   "outputs": [],
   "source": [
    "I.shape[2]"
   ]
  },
  {
   "cell_type": "code",
   "execution_count": null,
   "metadata": {
    "collapsed": false
   },
   "outputs": [],
   "source": [
    "# https://carnd-forums.udacity.com/questions/32716893/\n",
    "# does-anyone-know-how-to-make-multiple-images-into-4d-arrays-like-pickled-data#\n",
    "#arr = np.zeros((num_examples, width, height, channels))\n",
    "\n",
    "features = np.zeros((len(data), I.shape[1], I.shape[0], I.shape[2]))\n",
    "features[i, :, :, :] = I\n"
   ]
  },
  {
   "cell_type": "code",
   "execution_count": null,
   "metadata": {
    "collapsed": false
   },
   "outputs": [],
   "source": [
    "arr.shape"
   ]
  },
  {
   "cell_type": "code",
   "execution_count": null,
   "metadata": {
    "collapsed": true
   },
   "outputs": [],
   "source": []
  }
 ],
 "metadata": {
  "kernelspec": {
   "display_name": "Python 3",
   "language": "python",
   "name": "python3"
  },
  "language_info": {
   "codemirror_mode": {
    "name": "ipython",
    "version": 3
   },
   "file_extension": ".py",
   "mimetype": "text/x-python",
   "name": "python",
   "nbconvert_exporter": "python",
   "pygments_lexer": "ipython3",
   "version": "3.5.2"
  },
  "widgets": {
   "state": {},
   "version": "1.1.2"
  }
 },
 "nbformat": 4,
 "nbformat_minor": 2
}
